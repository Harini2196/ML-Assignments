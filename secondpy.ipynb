{
 "cells": [
  {
   "cell_type": "code",
   "execution_count": null,
   "metadata": {},
   "outputs": [],
   "source": [
    "firstName = input(\"enter yor first name -\")\n",
    "print(firstName)"
   ]
  },
  {
   "cell_type": "code",
   "execution_count": null,
   "metadata": {},
   "outputs": [],
   "source": [
    "lastName = input(\"enter yor last name -\")\n",
    "print(lastName)"
   ]
  },
  {
   "cell_type": "code",
   "execution_count": null,
   "metadata": {},
   "outputs": [],
   "source": [
    "fullName = firstName[::-1] + ' ' + lastName[::-1]\n",
    "fullName"
   ]
  },
  {
   "cell_type": "code",
   "execution_count": null,
   "metadata": {},
   "outputs": [],
   "source": [
    "firstName = input(\"enter yor first name -\")\n",
    "lastName = input(\"enter yor last name -\")\n",
    "fullName = firstName[::-1] + ' ' + lastName[::-1]\n",
    "fullName\n"
   ]
  },
  {
   "cell_type": "code",
   "execution_count": null,
   "metadata": {},
   "outputs": [],
   "source": [
    "import math\n",
    "diameter=12\n",
    "radius = diameter/2\n",
    "volume = 4/3 * math.pi * radius * radius * radius\n",
    "print(\"volume of sphere is \" +str(volume))"
   ]
  },
  {
   "cell_type": "code",
   "execution_count": null,
   "metadata": {},
   "outputs": [],
   "source": [
    "Numbers = input(\"Enter series of comma seperated numbers - \")\n",
    "l = Numbers.split(',')\n",
    "print(\"list of numbers as string is \")\n",
    "l\n",
    "for i in range(0, len(l)): \n",
    "    l[i] = int(l[i])\n",
    "print(\"list of numbers is \")\n",
    "l"
   ]
  },
  {
   "cell_type": "code",
   "execution_count": null,
   "metadata": {},
   "outputs": [],
   "source": [
    "for i in range(5):\n",
    "    print('*')\n",
    "    n=1\n",
    "    for j in range(0,5)\n",
    "    print('*')"
   ]
  },
  {
   "cell_type": "code",
   "execution_count": null,
   "metadata": {},
   "outputs": [],
   "source": [
    "symbol = '*'\n",
    "n=6\n",
    "for i in range(0,n):\n",
    "    print(symbol*(i+1))\n",
    "for j in range(n,0,-1):\n",
    "     print(symbol*(j-1))\n",
    "   \n",
    "   \n",
    "    "
   ]
  },
  {
   "cell_type": "code",
   "execution_count": null,
   "metadata": {},
   "outputs": [],
   "source": [
    "UserInput = input(\"Enter user input-\")\n",
    "print(UserInput[::-1])"
   ]
  },
  {
   "cell_type": "code",
   "execution_count": 52,
   "metadata": {},
   "outputs": [
    {
     "name": "stdout",
     "output_type": "stream",
     "text": [
      "WE, THE PEOPLE OF INDIA, \n",
      "     having solemnly resolved to constitute India into a SOVEREIGN,!\n",
      "            SOCIALIST, SECULAR, DEMOCRATIC REPUBLIC \n",
      "           and to secure to all its citizens\n"
     ]
    }
   ],
   "source": [
    "inputStr ='WE, THE PEOPLE OF INDIA, having solemnly resolved to constitute India into a SOVEREIGN, SOCIALIST, SECULAR, DEMOCRATIC REPUBLIC and to secure to all its citizens'\n",
    "print(inputStr[0:25])\n",
    "print('     '+inputStr[25:87]+ '!')\n",
    "print('            ' +inputStr[88:128])\n",
    "print('           ' +inputStr[128:165])"
   ]
  },
  {
   "cell_type": "code",
   "execution_count": 55,
   "metadata": {},
   "outputs": [
    {
     "name": "stdout",
     "output_type": "stream",
     "text": [
      "WE, THE PEOPLE OF INDIA, \n",
      "     having solemnly resolved to constitute India into a SOVEREIGN,!\n",
      "            SOCIALIST, SECULAR, DEMOCRATIC REPUBLIC \n",
      "           and to secure to all its citizens\n"
     ]
    }
   ],
   "source": [
    "inputStr ='WE, THE PEOPLE OF INDIA, having solemnly resolved to constitute India into a SOVEREIGN, SOCIALIST, SECULAR, DEMOCRATIC REPUBLIC and to secure to all its citizens'\n",
    "print(inputStr[0:25]+ '\\n     '+inputStr[25:87]+ '!\\n            '+inputStr[88:128]+ '\\n           ' +inputStr[128:165] )"
   ]
  },
  {
   "cell_type": "code",
   "execution_count": null,
   "metadata": {},
   "outputs": [],
   "source": []
  },
  {
   "cell_type": "code",
   "execution_count": null,
   "metadata": {},
   "outputs": [],
   "source": []
  },
  {
   "cell_type": "code",
   "execution_count": null,
   "metadata": {},
   "outputs": [],
   "source": []
  }
 ],
 "metadata": {
  "kernelspec": {
   "display_name": "Python 3",
   "language": "python",
   "name": "python3"
  },
  "language_info": {
   "codemirror_mode": {
    "name": "ipython",
    "version": 3
   },
   "file_extension": ".py",
   "mimetype": "text/x-python",
   "name": "python",
   "nbconvert_exporter": "python",
   "pygments_lexer": "ipython3",
   "version": "3.7.4"
  }
 },
 "nbformat": 4,
 "nbformat_minor": 2
}
