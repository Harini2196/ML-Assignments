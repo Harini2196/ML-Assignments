{
 "cells": [
  {
   "cell_type": "markdown",
   "metadata": {},
   "source": [
    "# Assignment2"
   ]
  },
  {
   "cell_type": "markdown",
   "metadata": {},
   "source": [
    "###### Task1.1-Write a Python Program to implement your own myreduce() function which works exactly like Python's built-in function reduce()"
   ]
  },
  {
   "cell_type": "code",
   "execution_count": 159,
   "metadata": {},
   "outputs": [],
   "source": [
    "#Functions to give input to myreduce functions\n",
    "add= lambda a,b:a+b\n",
    "mul= lambda a,b:a*b"
   ]
  },
  {
   "cell_type": "code",
   "execution_count": 209,
   "metadata": {},
   "outputs": [],
   "source": [
    "#Defining myreduce function which works similar to inbuilt reduce function\n",
    "def myreduce(func,List,init=None):\n",
    "    if init is None:\n",
    "        acc_val =next(iter(List))\n",
    "    else:\n",
    "        acc_val =init\n",
    "    for i in iter(List):\n",
    "         acc_val= func(acc_val,i)        \n",
    "    return acc_val"
   ]
  },
  {
   "cell_type": "code",
   "execution_count": 210,
   "metadata": {},
   "outputs": [
    {
     "name": "stdout",
     "output_type": "stream",
     "text": [
      "55\n"
     ]
    }
   ],
   "source": [
    "lst = [1,2,3,4,5,8,10,21]\n",
    "print(myreduce(add,lst))"
   ]
  },
  {
   "cell_type": "code",
   "execution_count": 211,
   "metadata": {},
   "outputs": [
    {
     "name": "stdout",
     "output_type": "stream",
     "text": [
      "acdacddefghi\n"
     ]
    }
   ],
   "source": [
    "str_lst = [\"acd\",\"def\",\"ghi\"]\n",
    "print(myreduce(add,str_lst))"
   ]
  },
  {
   "cell_type": "code",
   "execution_count": 212,
   "metadata": {},
   "outputs": [
    {
     "name": "stdout",
     "output_type": "stream",
     "text": [
      "201600\n"
     ]
    }
   ],
   "source": [
    "print(myreduce(mul,lst))"
   ]
  },
  {
   "cell_type": "markdown",
   "metadata": {},
   "source": [
    "###### Task1.2-Write a Python program to implement your own myfilter() function which works exactly like Python's built-in function filter()"
   ]
  },
  {
   "cell_type": "code",
   "execution_count": 208,
   "metadata": {},
   "outputs": [],
   "source": [
    "#Functions to give input to myfilter functions\n",
    "def odd(num):\n",
    "    #for n in Lst:\n",
    "        if (num%2 == 0):            \n",
    "            return False\n",
    "        else:\n",
    "            return True\n",
    "def palindrome(input_str):\n",
    "    if(input_str == input_str[::-1]):\n",
    "        return True"
   ]
  },
  {
   "cell_type": "code",
   "execution_count": 101,
   "metadata": {},
   "outputs": [],
   "source": [
    "#Defining myfilter function which works similar to inbuilt filter function\n",
    "def myfilter(func, lst):\n",
    "    modified_lst =[]\n",
    "    for n in lst:\n",
    "        if (func(n)==True):\n",
    "            modified_lst.append(n)  \n",
    "    return modified_lst"
   ]
  },
  {
   "cell_type": "code",
   "execution_count": 165,
   "metadata": {},
   "outputs": [
    {
     "data": {
      "text/plain": [
       "[1, 3, 5]"
      ]
     },
     "execution_count": 165,
     "metadata": {},
     "output_type": "execute_result"
    }
   ],
   "source": [
    "lst =[1,2,3,4,5]\n",
    "list(myfilter(odd,lst))"
   ]
  },
  {
   "cell_type": "code",
   "execution_count": 166,
   "metadata": {},
   "outputs": [
    {
     "data": {
      "text/plain": [
       "['civic', 'madam', 'level']"
      ]
     },
     "execution_count": 166,
     "metadata": {},
     "output_type": "execute_result"
    }
   ],
   "source": [
    "i_str =[\"car\",\"civic\",\"jar\", \"madam\",\"war\",\"level\"]\n",
    "list(myfilter(palindrome,i_str))"
   ]
  },
  {
   "cell_type": "markdown",
   "metadata": {},
   "source": [
    "###### Task 1 Question 2.1-Implement List comprehensions to produce the following lists.Write List comprehensions to produce the following Lists\n",
    "['A', 'C', 'A', 'D', 'G', 'I', ’L’, ‘ D’]\n",
    "\n",
    "['x', 'xx', 'xxx', 'xxxx', 'y', 'yy', 'yyy', 'yyyy', 'z', 'zz', 'zzz', 'zzzz']\n",
    "\n",
    "['x', 'y', 'z', 'xx', 'yy', 'zz', 'xx', 'yy', 'zz', 'xxxx', 'yyyy', 'zzzz']\n",
    "\n",
    "[[2], [3], [4], [3], [4], [5], [4], [5], [6]]\n",
    "\n",
    "[[2, 3, 4, 5], [3, 4, 5, 6], [4, 5, 6, 7], [5, 6, 7, 8]]\n",
    "\n",
    "[(1, 1), (2, 1), (3, 1), (1, 2), (2, 2), (3, 2), (1, 3), (2, 3), (3, 3)]"
   ]
  },
  {
   "cell_type": "code",
   "execution_count": 104,
   "metadata": {},
   "outputs": [
    {
     "data": {
      "text/plain": [
       "['A', 'C', 'A', 'D', 'G', 'I', 'L', 'D']"
      ]
     },
     "execution_count": 104,
     "metadata": {},
     "output_type": "execute_result"
    }
   ],
   "source": [
    "#Produce list ['A', 'C', 'A', 'D', 'G', 'I', ’L’, ‘ D’]\n",
    "str1 = \"ACADGILD\"\n",
    "l=[s for s in str1]\n",
    "l"
   ]
  },
  {
   "cell_type": "code",
   "execution_count": 105,
   "metadata": {},
   "outputs": [
    {
     "name": "stdout",
     "output_type": "stream",
     "text": [
      "['x', 'xx', 'xxx', 'xxxx', 'y', 'yy', 'yyy', 'yyyy', 'z', 'zz', 'zzz', 'zzzz']\n"
     ]
    }
   ],
   "source": [
    "#Produce ['x', 'xx', 'xxx', 'xxxx', 'y', 'yy', 'yyy', 'yyyy', 'z', 'zz', 'zzz', 'zzzz']\n",
    "l=[\"x\",\"y\",\"z\"]\n",
    "mdf_lst =[j*i  for j in l for i in range(1,5)]\n",
    "print(mdf_lst)"
   ]
  },
  {
   "cell_type": "code",
   "execution_count": null,
   "metadata": {},
   "outputs": [],
   "source": [
    "#Produce ['x', 'y', 'z', 'xx', 'yy', 'zz', 'xx', 'yy', 'zz', 'xxxx', 'yyyy', 'zzzz']"
   ]
  },
  {
   "cell_type": "code",
   "execution_count": 1,
   "metadata": {},
   "outputs": [],
   "source": [
    "#Produce [[2], [3], [4], [3], [4], [5], [4], [5], [6]]\n"
   ]
  },
  {
   "cell_type": "code",
   "execution_count": null,
   "metadata": {},
   "outputs": [],
   "source": [
    "#Produce [[2, 3, 4, 5], [3, 4, 5, 6], [4, 5, 6, 7], [5, 6, 7, 8]]"
   ]
  },
  {
   "cell_type": "code",
   "execution_count": null,
   "metadata": {},
   "outputs": [],
   "source": [
    "#Produce [(1, 1), (2, 1), (3, 1), (1, 2), (2, 2), (3, 2), (1, 3), (2, 3), (3, 3)]\n"
   ]
  },
  {
   "cell_type": "markdown",
   "metadata": {},
   "source": [
    "###### Task1 Question 3- Implement a function longestWord() that takes a list of words and returns the longest one."
   ]
  },
  {
   "cell_type": "code",
   "execution_count": 177,
   "metadata": {},
   "outputs": [],
   "source": [
    "def longest_word(str_lst):\n",
    "    long_word =\"\"\n",
    "    for i in str_lst:        \n",
    "        if len(long_word)<len(i):\n",
    "            long_word = i\n",
    "    print(\"longest word is \", long_word)       \n",
    "    "
   ]
  },
  {
   "cell_type": "code",
   "execution_count": 178,
   "metadata": {},
   "outputs": [
    {
     "name": "stdout",
     "output_type": "stream",
     "text": [
      "longest word is  letter\n"
     ]
    }
   ],
   "source": [
    "ip_str = [\"a\",\"word\",\"can\",\"be\",\"a\",\"word\",\"it\",\"can\",\"never\",\"be\",\"a\",\"letter\"]\n",
    "longest_word(ip_str)"
   ]
  },
  {
   "cell_type": "code",
   "execution_count": 180,
   "metadata": {},
   "outputs": [
    {
     "name": "stdout",
     "output_type": "stream",
     "text": [
      "longest word is  supposed\n"
     ]
    }
   ],
   "source": [
    "b=[\"are\",\"supposed\",\"to\",\"find\",\"the\",\"shortest\",\"and\",\"longest\",\"words\",\"in\",\"this\",\"list\"]\n",
    "longest_word(b)"
   ]
  },
  {
   "cell_type": "markdown",
   "metadata": {},
   "source": [
    "###### Task2 Question1.2-Write a function filter_long_words() that takes a list of words and an integer n and returns the list of words that are longer than n."
   ]
  },
  {
   "cell_type": "code",
   "execution_count": 153,
   "metadata": {},
   "outputs": [],
   "source": [
    "def filter_long_words(l,n):\n",
    "    mdf_lst =[]\n",
    "    for i in l:\n",
    "        if(len(i)> n):\n",
    "            mdf_lst.append(i)\n",
    "    return mdf_lst    "
   ]
  },
  {
   "cell_type": "code",
   "execution_count": 154,
   "metadata": {},
   "outputs": [
    {
     "name": "stdout",
     "output_type": "stream",
     "text": [
      "['function']\n"
     ]
    }
   ],
   "source": [
    "lst=[\"pandas\", \"numpy\", \"python\",\"function\"]\n",
    "print(filter_long_words(lst,6))\n"
   ]
  },
  {
   "cell_type": "markdown",
   "metadata": {},
   "source": [
    "###### Task2 Question1.1-Write a Python Program(with class concepts) to find the area of the triangle using the below formula.\n",
    "area = (s*(s-a)*(s-b)*(s-c)) ** 0.5\n",
    "\n",
    "Function to take the length of the sides of triangle from user should be defined in the parent\n",
    "class and function to calculate the area should be defined in subclass."
   ]
  },
  {
   "cell_type": "code",
   "execution_count": 167,
   "metadata": {},
   "outputs": [],
   "source": [
    "class triangle_sides:\n",
    "    def __init__(self,a,b,c):\n",
    "        self.a=a\n",
    "        self.b=b\n",
    "        self.c=c\n",
    "\n",
    "class calc_area(triangle_sides):\n",
    "    def __init__(self,*args):\n",
    "        super(calc_area, self).__init__(*args)\n",
    "    def calculate_area(self):\n",
    "        s=(self.a+self.b+self.c)/2\n",
    "        area = 0\n",
    "        area = (s *(s-self.a)*(s-self.a)*(s-self.a)*0.5)\n",
    "        print(\"area of triangle is\",area)"
   ]
  },
  {
   "cell_type": "code",
   "execution_count": 169,
   "metadata": {},
   "outputs": [
    {
     "name": "stdout",
     "output_type": "stream",
     "text": [
      "area of triangle is 2915.5\n"
     ]
    }
   ],
   "source": [
    "triangle1 = area_triangle(10,20,4)\n",
    "triangle1.calculate_area()"
   ]
  },
  {
   "cell_type": "markdown",
   "metadata": {},
   "source": [
    "###### Task2 Question 1.2-Write a function filter_long_words() that takes a list of words and an integer n and returns the list  of words that are longer than n."
   ]
  },
  {
   "cell_type": "code",
   "execution_count": 157,
   "metadata": {},
   "outputs": [],
   "source": [
    "def filter_long_words(l,n):\n",
    "    mfl =[]\n",
    "    for i in l:\n",
    "        if(len(i)> n):\n",
    "            mfl.append(i)\n",
    "    return mfl"
   ]
  },
  {
   "cell_type": "code",
   "execution_count": 170,
   "metadata": {},
   "outputs": [
    {
     "name": "stdout",
     "output_type": "stream",
     "text": [
      "Enter value 5\n",
      "['pandas', 'python', 'function']\n"
     ]
    }
   ],
   "source": [
    "lst=[\"pandas\", \"numpy\", \"python\",\"function\"]\n",
    "n=int(input(\"Enter value \"))\n",
    "print(filter_long_words(lst,n))"
   ]
  },
  {
   "cell_type": "markdown",
   "metadata": {},
   "source": [
    "###### Task2 Question2.1-Write a Python program using function concept that maps list of words into a list of integers representing the lengths of the corresponding words ."
   ]
  },
  {
   "cell_type": "code",
   "execution_count": 148,
   "metadata": {},
   "outputs": [],
   "source": [
    "def lenof_list(lst):\n",
    "    lenof_lst =[]\n",
    "    for l in lst:\n",
    "        lenof_lst.append(len(l))\n",
    "    return lenof_lst"
   ]
  },
  {
   "cell_type": "code",
   "execution_count": 150,
   "metadata": {},
   "outputs": [
    {
     "name": "stdout",
     "output_type": "stream",
     "text": [
      "[6, 5, 6, 8]\n"
     ]
    }
   ],
   "source": [
    "l=[\"pandas\", \"numpy\", \"python\",\"function\"]\n",
    "print(lenof_list(l))"
   ]
  },
  {
   "cell_type": "markdown",
   "metadata": {},
   "source": [
    "###### Task2 Question2.2 -Write a Python function which takes a character (i.e. a string of length 1) and returns True if it is a vowel, False otherwise."
   ]
  },
  {
   "cell_type": "code",
   "execution_count": 151,
   "metadata": {},
   "outputs": [],
   "source": [
    "def is_Vowel(input_chr):\n",
    "    tpl = (\"a\",\"e\",\"i\",\"o\",\"u\")    \n",
    "    for i in tpl:\n",
    "         if(input_chr.lower() == i):\n",
    "            return True\n",
    "    else:\n",
    "        return False\n",
    "        "
   ]
  },
  {
   "cell_type": "code",
   "execution_count": 152,
   "metadata": {},
   "outputs": [
    {
     "name": "stdout",
     "output_type": "stream",
     "text": [
      "True\n"
     ]
    }
   ],
   "source": [
    "ch = \"U\"\n",
    "print(is_Vowel(ch))"
   ]
  }
 ],
 "metadata": {
  "kernelspec": {
   "display_name": "Python 3",
   "language": "python",
   "name": "python3"
  },
  "language_info": {
   "codemirror_mode": {
    "name": "ipython",
    "version": 3
   },
   "file_extension": ".py",
   "mimetype": "text/x-python",
   "name": "python",
   "nbconvert_exporter": "python",
   "pygments_lexer": "ipython3",
   "version": "3.7.4"
  }
 },
 "nbformat": 4,
 "nbformat_minor": 2
}
